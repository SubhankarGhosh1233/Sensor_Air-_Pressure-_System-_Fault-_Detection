{
 "cells": [
  {
   "cell_type": "code",
   "execution_count": 4,
   "id": "10361dd9",
   "metadata": {},
   "outputs": [],
   "source": [
    "import numpy as np\n",
    "from scipy import stats\n",
    "rng = np.random.default_rng()\n",
    "sample1 = stats.uniform.rvs(size=100, random_state=rng)\n",
    "sample2 = stats.norm.rvs(size=110, random_state=rng)\n",
    "responce =stats.ks_2samp(sample1, sample2)"
   ]
  },
  {
   "cell_type": "code",
   "execution_count": 6,
   "id": "e896aa8e",
   "metadata": {},
   "outputs": [
    {
     "data": {
      "text/plain": [
       "array([0.660144  , 0.58077054, 0.28793392, 0.18919269, 0.72662601,\n",
       "       0.66193648, 0.17389936, 0.78177471, 0.4130251 , 0.14668786,\n",
       "       0.47547422, 0.00211626, 0.40612547, 0.2856108 , 0.29535476,\n",
       "       0.15225629, 0.19623003, 0.32838212, 0.91823314, 0.37571954,\n",
       "       0.43880216, 0.212985  , 0.99021917, 0.33373496, 0.071353  ,\n",
       "       0.10363608, 0.29022576, 0.72997559, 0.29865201, 0.55911869,\n",
       "       0.11641887, 0.29903508, 0.05912436, 0.68740626, 0.96842618,\n",
       "       0.86349006, 0.97359696, 0.73777705, 0.08922126, 0.7851612 ,\n",
       "       0.83091565, 0.93228351, 0.41585048, 0.19537346, 0.30589764,\n",
       "       0.98658141, 0.45110985, 0.75882601, 0.67794224, 0.84703502,\n",
       "       0.56166764, 0.43793212, 0.08291828, 0.73709789, 0.82558901,\n",
       "       0.30745015, 0.23517364, 0.52940178, 0.10668755, 0.50495372,\n",
       "       0.06249761, 0.98882797, 0.75162515, 0.66120457, 0.33439578,\n",
       "       0.748477  , 0.51268954, 0.23852415, 0.90312176, 0.65401258,\n",
       "       0.91855774, 0.54329086, 0.32718419, 0.05762699, 0.35755689,\n",
       "       0.04909186, 0.23208927, 0.54523446, 0.1472524 , 0.87026981,\n",
       "       0.22652755, 0.34038633, 0.60714921, 0.63254496, 0.19318671,\n",
       "       0.23788843, 0.14651365, 0.04250242, 0.13232427, 0.34084645,\n",
       "       0.39875498, 0.87862578, 0.49989233, 0.06470111, 0.66518127,\n",
       "       0.18475669, 0.58144784, 0.80505439, 0.8048442 , 0.40928068])"
      ]
     },
     "execution_count": 6,
     "metadata": {},
     "output_type": "execute_result"
    }
   ],
   "source": [
    "sample1"
   ]
  },
  {
   "cell_type": "code",
   "execution_count": 7,
   "id": "69910bbf",
   "metadata": {},
   "outputs": [
    {
     "data": {
      "text/plain": [
       "array([-0.13709925,  2.46152418, -0.71052875, -0.50185081,  0.02081619,\n",
       "        0.8881608 , -0.16634335, -1.28975221,  1.87894348, -1.35295265,\n",
       "        0.34674099, -1.54122236,  0.59142523, -0.89339877,  1.11799998,\n",
       "        0.36945641, -0.00346453,  0.49811179, -0.69744736, -0.07830443,\n",
       "        0.41160554,  0.16462472,  0.62814859,  0.57199504,  0.94484381,\n",
       "        0.40480765, -0.06491163,  0.23835391, -0.02300101,  0.47027188,\n",
       "       -0.05620528, -0.84882986, -0.22277696, -0.72755223, -1.29875607,\n",
       "        0.58601146,  0.33146795, -1.35104798, -0.76460861, -0.1923194 ,\n",
       "       -0.16097422, -0.55443408,  0.49656317,  0.69854802, -0.50157199,\n",
       "        0.17272944, -0.14197482, -0.2148148 ,  1.2616045 , -0.25785458,\n",
       "        1.84626731,  0.36894838,  0.13450287,  0.69720139, -0.99308359,\n",
       "       -0.04634398, -0.00488053, -0.21432673,  0.31099407, -0.20543029,\n",
       "        0.41543792, -1.85967547, -0.93556185,  0.65602933,  0.55620928,\n",
       "       -0.09175809,  0.29719761, -1.99145964,  0.55959265, -0.86101163,\n",
       "       -0.37857438,  0.92546573,  0.55914566,  0.28338479, -0.10718782,\n",
       "        0.63659705,  0.56910956, -0.43380742, -0.51215129, -0.90895675,\n",
       "        0.14090628, -1.32009125,  0.4502922 ,  0.91661665, -0.0899667 ,\n",
       "        2.1672301 ,  0.7747062 ,  0.46669535,  0.90543154, -2.13568509,\n",
       "        0.28772571,  0.40518629,  1.15536701, -0.82903711, -1.07701357,\n",
       "       -0.96245852, -0.25460211, -0.9433046 ,  0.72734528, -1.01913657,\n",
       "       -1.04176795,  0.74680759,  0.39402749,  1.96459297,  1.22671274,\n",
       "       -1.0698324 , -1.45613391,  0.99074397, -0.88196412,  0.36506179])"
      ]
     },
     "execution_count": 7,
     "metadata": {},
     "output_type": "execute_result"
    }
   ],
   "source": [
    "sample2"
   ]
  },
  {
   "cell_type": "code",
   "execution_count": 5,
   "id": "4698ed5f",
   "metadata": {},
   "outputs": [
    {
     "data": {
      "text/plain": [
       "KstestResult(statistic=np.float64(0.5), pvalue=np.float64(1.8772727817852512e-12), statistic_location=np.float64(-0.003464527394669418), statistic_sign=np.int8(-1))"
      ]
     },
     "execution_count": 5,
     "metadata": {},
     "output_type": "execute_result"
    }
   ],
   "source": [
    "responce"
   ]
  },
  {
   "cell_type": "code",
   "execution_count": 9,
   "id": "40890f6c",
   "metadata": {},
   "outputs": [
    {
     "data": {
      "text/plain": [
       "np.float64(1.8772727817852512e-12)"
      ]
     },
     "execution_count": 9,
     "metadata": {},
     "output_type": "execute_result"
    }
   ],
   "source": [
    "responce.pvalue"
   ]
  },
  {
   "cell_type": "code",
   "execution_count": 14,
   "id": "d09be847",
   "metadata": {},
   "outputs": [
    {
     "data": {
      "text/plain": [
       "np.float64(0.0)"
      ]
     },
     "execution_count": 14,
     "metadata": {},
     "output_type": "execute_result"
    }
   ],
   "source": [
    "round(responce.pvalue,10)"
   ]
  },
  {
   "cell_type": "code",
   "execution_count": 15,
   "id": "561aab6d",
   "metadata": {},
   "outputs": [
    {
     "data": {
      "text/plain": [
       "np.float64(1.8773e-12)"
      ]
     },
     "execution_count": 15,
     "metadata": {},
     "output_type": "execute_result"
    }
   ],
   "source": [
    "round(responce.pvalue,16)"
   ]
  },
  {
   "cell_type": "code",
   "execution_count": null,
   "id": "bd11723e",
   "metadata": {},
   "outputs": [],
   "source": [
    "# Anomaly in dataset\n",
    "# 1. High Null value\n",
    "# 2.Missung \n",
    "# 3. outlier\n",
    "# 4. For Categorical :\n",
    "Gender--> Male,Female,Other\n"
   ]
  },
  {
   "cell_type": "code",
   "execution_count": 14,
   "id": "141cca9d",
   "metadata": {},
   "outputs": [
    {
     "name": "stdout",
     "output_type": "stream",
     "text": [
      "e:\\ABBC\\Aps_Fault_Detection\\notebook\n"
     ]
    }
   ],
   "source": [
    "import os\n",
    "print(os.getcwd())\n"
   ]
  },
  {
   "cell_type": "code",
   "execution_count": 15,
   "id": "189a1301",
   "metadata": {},
   "outputs": [],
   "source": [
    "import pandas as pd"
   ]
  },
  {
   "cell_type": "code",
   "execution_count": 33,
   "id": "c851cd62",
   "metadata": {},
   "outputs": [
    {
     "name": "stdout",
     "output_type": "stream",
     "text": [
      "1 4\n",
      "2 5\n",
      "3 6\n",
      "4 7\n"
     ]
    }
   ],
   "source": [
    "l1= [1,2,3,4]\n",
    "l2 =[4,5,6,7,8,9]\n",
    "\n",
    "for l1_val,l2_val in zip(l1,l2):\n",
    "    print(l1_val,l2_val)"
   ]
  },
  {
   "cell_type": "code",
   "execution_count": null,
   "id": "591bda39",
   "metadata": {},
   "outputs": [],
   "source": []
  },
  {
   "cell_type": "code",
   "execution_count": 40,
   "id": "60142915",
   "metadata": {},
   "outputs": [],
   "source": [
    "df = pd.read_csv(r\"E:\\ABBC\\Aps_Fault_Detection\\artifact\\07052025__203714\\data_ingestion\\dataset\\train.csv\")"
   ]
  },
  {
   "cell_type": "code",
   "execution_count": null,
   "id": "d950ea4d",
   "metadata": {},
   "outputs": [],
   "source": [
    "null_report=df.isnull().sum()/df.shape[0]\n"
   ]
  },
  {
   "cell_type": "code",
   "execution_count": null,
   "id": "17124b9b",
   "metadata": {},
   "outputs": [],
   "source": [
    "null_report[null_report>0.3].index"
   ]
  },
  {
   "cell_type": "code",
   "execution_count": 54,
   "id": "3d0c7a7a",
   "metadata": {},
   "outputs": [
    {
     "data": {
      "text/html": [
       "<div>\n",
       "<style scoped>\n",
       "    .dataframe tbody tr th:only-of-type {\n",
       "        vertical-align: middle;\n",
       "    }\n",
       "\n",
       "    .dataframe tbody tr th {\n",
       "        vertical-align: top;\n",
       "    }\n",
       "\n",
       "    .dataframe thead th {\n",
       "        text-align: right;\n",
       "    }\n",
       "</style>\n",
       "<table border=\"1\" class=\"dataframe\">\n",
       "  <thead>\n",
       "    <tr style=\"text-align: right;\">\n",
       "      <th></th>\n",
       "      <th>class</th>\n",
       "    </tr>\n",
       "  </thead>\n",
       "  <tbody>\n",
       "    <tr>\n",
       "      <th>0</th>\n",
       "      <td>neg</td>\n",
       "    </tr>\n",
       "    <tr>\n",
       "      <th>1</th>\n",
       "      <td>neg</td>\n",
       "    </tr>\n",
       "    <tr>\n",
       "      <th>2</th>\n",
       "      <td>neg</td>\n",
       "    </tr>\n",
       "    <tr>\n",
       "      <th>3</th>\n",
       "      <td>neg</td>\n",
       "    </tr>\n",
       "    <tr>\n",
       "      <th>4</th>\n",
       "      <td>neg</td>\n",
       "    </tr>\n",
       "    <tr>\n",
       "      <th>...</th>\n",
       "      <td>...</td>\n",
       "    </tr>\n",
       "    <tr>\n",
       "      <th>28945</th>\n",
       "      <td>neg</td>\n",
       "    </tr>\n",
       "    <tr>\n",
       "      <th>28946</th>\n",
       "      <td>neg</td>\n",
       "    </tr>\n",
       "    <tr>\n",
       "      <th>28947</th>\n",
       "      <td>neg</td>\n",
       "    </tr>\n",
       "    <tr>\n",
       "      <th>28948</th>\n",
       "      <td>neg</td>\n",
       "    </tr>\n",
       "    <tr>\n",
       "      <th>28949</th>\n",
       "      <td>neg</td>\n",
       "    </tr>\n",
       "  </tbody>\n",
       "</table>\n",
       "<p>28950 rows × 1 columns</p>\n",
       "</div>"
      ],
      "text/plain": [
       "      class\n",
       "0       neg\n",
       "1       neg\n",
       "2       neg\n",
       "3       neg\n",
       "4       neg\n",
       "...     ...\n",
       "28945   neg\n",
       "28946   neg\n",
       "28947   neg\n",
       "28948   neg\n",
       "28949   neg\n",
       "\n",
       "[28950 rows x 1 columns]"
      ]
     },
     "execution_count": 54,
     "metadata": {},
     "output_type": "execute_result"
    }
   ],
   "source": [
    "df.iloc[:,[0]]"
   ]
  },
  {
   "cell_type": "code",
   "execution_count": 57,
   "id": "358302c9",
   "metadata": {},
   "outputs": [
    {
     "data": {
      "text/plain": [
       "0"
      ]
     },
     "execution_count": 57,
     "metadata": {},
     "output_type": "execute_result"
    }
   ],
   "source": [
    "len(df.iloc[:,[0]].drop(\"class\",axis=1).columns)"
   ]
  },
  {
   "cell_type": "code",
   "execution_count": 25,
   "id": "5b829317",
   "metadata": {},
   "outputs": [
    {
     "data": {
      "text/plain": [
       "class         0\n",
       "aa_000        0\n",
       "ab_000    22358\n",
       "ac_000     1723\n",
       "ad_000     7413\n",
       "          ...  \n",
       "ee_007      305\n",
       "ee_008      305\n",
       "ee_009      305\n",
       "ef_000     1398\n",
       "eg_000     1397\n",
       "Length: 171, dtype: int64"
      ]
     },
     "execution_count": 25,
     "metadata": {},
     "output_type": "execute_result"
    }
   ],
   "source": [
    "df.isnull().sum()"
   ]
  },
  {
   "cell_type": "code",
   "execution_count": null,
   "id": "41fef97e",
   "metadata": {},
   "outputs": [
    {
     "data": {
      "text/plain": [
       "class     0.000000\n",
       "aa_000    0.000000\n",
       "ab_000    0.772297\n",
       "ac_000    0.059516\n",
       "ad_000    0.256062\n",
       "            ...   \n",
       "ee_007    0.010535\n",
       "ee_008    0.010535\n",
       "ee_009    0.010535\n",
       "ef_000    0.048290\n",
       "eg_000    0.048256\n",
       "Length: 171, dtype: float64"
      ]
     },
     "execution_count": 26,
     "metadata": {},
     "output_type": "execute_result"
    }
   ],
   "source": [
    "df.isnull().sum()/df.shape[0]# avobe 30% null drop"
   ]
  },
  {
   "cell_type": "code",
   "execution_count": 27,
   "id": "b3842c07",
   "metadata": {},
   "outputs": [
    {
     "data": {
      "text/plain": [
       "array([0.        , 0.        , 0.77229706, 0.05951641, 0.25606218,\n",
       "       0.04431779, 0.04431779, 0.01053541, 0.01053541, 0.01053541,\n",
       "       0.01053541, 0.01053541, 0.01053541, 0.01053541, 0.01053541,\n",
       "       0.01053541, 0.01053541, 0.01098446, 0.01074266, 0.01074266,\n",
       "       0.0784456 , 0.01088083, 0.01074266, 0.01088083, 0.00974093,\n",
       "       0.01088083, 0.00974093, 0.04825561, 0.01074266, 0.01074266,\n",
       "       0.01074266, 0.04435233, 0.04435233, 0.01053541, 0.01053541,\n",
       "       0.01053541, 0.01053541, 0.01053541, 0.01053541, 0.01053541,\n",
       "       0.01053541, 0.01053541, 0.01053541, 0.01053541, 0.01053541,\n",
       "       0.01053541, 0.01053541, 0.01053541, 0.01053541, 0.01053541,\n",
       "       0.01053541, 0.01053541, 0.01053541, 0.01074266, 0.01074266,\n",
       "       0.01074266, 0.01074266, 0.01074266, 0.01074266, 0.01074266,\n",
       "       0.01074266, 0.01074266, 0.01074266, 0.01098446, 0.04829016,\n",
       "       0.04829016, 0.04438687, 0.04431779, 0.01088083, 0.01088083,\n",
       "       0.00974093, 0.00974093, 0.37920553, 0.44770294, 0.65274611,\n",
       "       0.72525043, 0.76238342, 0.78500864, 0.80207254, 0.81074266,\n",
       "       0.01177893, 0.00214162, 0.01143351, 0.01143351, 0.05291883,\n",
       "       0.00746114, 0.04825561, 0.07751295, 0.01177893, 0.05288428,\n",
       "       0.01132988, 0.04442142, 0.25606218, 0.25606218, 0.25606218,\n",
       "       0.00559585, 0.00559585, 0.00559585, 0.16148532, 0.16732297,\n",
       "       0.01070812, 0.01070812, 0.01070812, 0.01070812, 0.01070812,\n",
       "       0.01070812, 0.01070812, 0.01070812, 0.01070812, 0.01070812,\n",
       "       0.25606218, 0.04829016, 0.01143351, 0.77229706, 0.01050086,\n",
       "       0.01050086, 0.01050086, 0.01050086, 0.01050086, 0.01050086,\n",
       "       0.01050086, 0.01050086, 0.01050086, 0.01050086, 0.23765112,\n",
       "       0.23765112, 0.23765112, 0.23765112, 0.23765112, 0.23765112,\n",
       "       0.23765112, 0.23765112, 0.23765112, 0.04442142, 0.04829016,\n",
       "       0.07115717, 0.07119171, 0.07119171, 0.07112263, 0.07115717,\n",
       "       0.07115717, 0.07119171, 0.07122625, 0.01143351, 0.04825561,\n",
       "       0.0483247 , 0.0483247 , 0.04829016, 0.0483247 , 0.0483247 ,\n",
       "       0.04829016, 0.04829016, 0.04825561, 0.04829016, 0.04825561,\n",
       "       0.04825561, 0.07115717, 0.17385147, 0.16148532, 0.01053541,\n",
       "       0.01053541, 0.01053541, 0.01053541, 0.01053541, 0.01053541,\n",
       "       0.01053541, 0.01053541, 0.01053541, 0.01053541, 0.04829016,\n",
       "       0.04825561])"
      ]
     },
     "execution_count": 27,
     "metadata": {},
     "output_type": "execute_result"
    }
   ],
   "source": [
    "(df.isnull().sum()/df.shape[0]).values"
   ]
  },
  {
   "cell_type": "code",
   "execution_count": 28,
   "id": "30c76e7e",
   "metadata": {},
   "outputs": [
    {
     "data": {
      "text/plain": [
       "171"
      ]
     },
     "execution_count": 28,
     "metadata": {},
     "output_type": "execute_result"
    }
   ],
   "source": [
    "(df.isnull().sum()/df.shape[0]).values.__len__()"
   ]
  },
  {
   "cell_type": "code",
   "execution_count": 30,
   "id": "2886e944",
   "metadata": {},
   "outputs": [
    {
     "data": {
      "text/plain": [
       "Index(['class', 'aa_000', 'ab_000', 'ac_000', 'ad_000', 'ae_000', 'af_000',\n",
       "       'ag_000', 'ag_001', 'ag_002',\n",
       "       ...\n",
       "       'ee_002', 'ee_003', 'ee_004', 'ee_005', 'ee_006', 'ee_007', 'ee_008',\n",
       "       'ee_009', 'ef_000', 'eg_000'],\n",
       "      dtype='object', length=171)"
      ]
     },
     "execution_count": 30,
     "metadata": {},
     "output_type": "execute_result"
    }
   ],
   "source": [
    "(df.isnull().sum()/df.shape[0]).index"
   ]
  },
  {
   "cell_type": "code",
   "execution_count": 34,
   "id": "434e5291",
   "metadata": {},
   "outputs": [
    {
     "name": "stdout",
     "output_type": "stream",
     "text": [
      "class 0.0\n",
      "aa_000 0.0\n",
      "ab_000 77.22970639032816\n",
      "ac_000 5.951640759930915\n",
      "ad_000 25.606217616580313\n",
      "ae_000 4.431778929188256\n",
      "af_000 4.431778929188256\n",
      "ag_000 1.0535405872193437\n",
      "ag_001 1.0535405872193437\n",
      "ag_002 1.0535405872193437\n",
      "ag_003 1.0535405872193437\n",
      "ag_004 1.0535405872193437\n",
      "ag_005 1.0535405872193437\n",
      "ag_006 1.0535405872193437\n",
      "ag_007 1.0535405872193437\n",
      "ag_008 1.0535405872193437\n",
      "ag_009 1.0535405872193437\n",
      "ah_000 1.0984455958549224\n",
      "ai_000 1.07426597582038\n",
      "aj_000 1.07426597582038\n",
      "ak_000 7.844559585492227\n",
      "al_000 1.0880829015544042\n",
      "am_0 1.07426597582038\n",
      "an_000 1.0880829015544042\n",
      "ao_000 0.9740932642487047\n",
      "ap_000 1.0880829015544042\n",
      "aq_000 0.9740932642487047\n",
      "ar_000 4.825561312607944\n",
      "as_000 1.07426597582038\n",
      "at_000 1.07426597582038\n",
      "au_000 1.07426597582038\n",
      "av_000 4.435233160621762\n",
      "ax_000 4.435233160621762\n",
      "ay_000 1.0535405872193437\n",
      "ay_001 1.0535405872193437\n",
      "ay_002 1.0535405872193437\n",
      "ay_003 1.0535405872193437\n",
      "ay_004 1.0535405872193437\n",
      "ay_005 1.0535405872193437\n",
      "ay_006 1.0535405872193437\n",
      "ay_007 1.0535405872193437\n",
      "ay_008 1.0535405872193437\n",
      "ay_009 1.0535405872193437\n",
      "az_000 1.0535405872193437\n",
      "az_001 1.0535405872193437\n",
      "az_002 1.0535405872193437\n",
      "az_003 1.0535405872193437\n",
      "az_004 1.0535405872193437\n",
      "az_005 1.0535405872193437\n",
      "az_006 1.0535405872193437\n",
      "az_007 1.0535405872193437\n",
      "az_008 1.0535405872193437\n",
      "az_009 1.0535405872193437\n",
      "ba_000 1.07426597582038\n",
      "ba_001 1.07426597582038\n",
      "ba_002 1.07426597582038\n",
      "ba_003 1.07426597582038\n",
      "ba_004 1.07426597582038\n",
      "ba_005 1.07426597582038\n",
      "ba_006 1.07426597582038\n",
      "ba_007 1.07426597582038\n",
      "ba_008 1.07426597582038\n",
      "ba_009 1.07426597582038\n",
      "bb_000 1.0984455958549224\n",
      "bc_000 4.82901554404145\n",
      "bd_000 4.82901554404145\n",
      "be_000 4.438687392055267\n",
      "bf_000 4.431778929188256\n",
      "bg_000 1.0880829015544042\n",
      "bh_000 1.0880829015544042\n",
      "bi_000 0.9740932642487047\n",
      "bj_000 0.9740932642487047\n",
      "bk_000 37.92055267702936\n",
      "bl_000 44.770293609671846\n",
      "bm_000 65.27461139896373\n",
      "bn_000 72.52504317789293\n",
      "bo_000 76.23834196891191\n",
      "bp_000 78.50086355785838\n",
      "bq_000 80.20725388601036\n",
      "br_000 81.07426597582038\n",
      "bs_000 1.1778929188255614\n",
      "bt_000 0.21416234887737476\n",
      "bu_000 1.1433506044905009\n",
      "bv_000 1.1433506044905009\n",
      "bx_000 5.291882556131261\n",
      "by_000 0.7461139896373057\n",
      "bz_000 4.825561312607944\n",
      "ca_000 7.751295336787564\n",
      "cb_000 1.1778929188255614\n",
      "cc_000 5.288428324697755\n",
      "cd_000 1.132987910189983\n",
      "ce_000 4.442141623488774\n",
      "cf_000 25.606217616580313\n",
      "cg_000 25.606217616580313\n",
      "ch_000 25.606217616580313\n",
      "ci_000 0.5595854922279793\n",
      "cj_000 0.5595854922279793\n",
      "ck_000 0.5595854922279793\n",
      "cl_000 16.14853195164076\n",
      "cm_000 16.73229706390328\n",
      "cn_000 1.070811744386874\n",
      "cn_001 1.070811744386874\n",
      "cn_002 1.070811744386874\n",
      "cn_003 1.070811744386874\n",
      "cn_004 1.070811744386874\n",
      "cn_005 1.070811744386874\n",
      "cn_006 1.070811744386874\n",
      "cn_007 1.070811744386874\n",
      "cn_008 1.070811744386874\n",
      "cn_009 1.070811744386874\n",
      "co_000 25.606217616580313\n",
      "cp_000 4.82901554404145\n",
      "cq_000 1.1433506044905009\n",
      "cr_000 77.22970639032816\n",
      "cs_000 1.0500863557858378\n",
      "cs_001 1.0500863557858378\n",
      "cs_002 1.0500863557858378\n",
      "cs_003 1.0500863557858378\n",
      "cs_004 1.0500863557858378\n",
      "cs_005 1.0500863557858378\n",
      "cs_006 1.0500863557858378\n",
      "cs_007 1.0500863557858378\n",
      "cs_008 1.0500863557858378\n",
      "cs_009 1.0500863557858378\n",
      "ct_000 23.76511226252159\n",
      "cu_000 23.76511226252159\n",
      "cv_000 23.76511226252159\n",
      "cx_000 23.76511226252159\n",
      "cy_000 23.76511226252159\n",
      "cz_000 23.76511226252159\n",
      "da_000 23.76511226252159\n",
      "db_000 23.76511226252159\n",
      "dc_000 23.76511226252159\n",
      "dd_000 4.442141623488774\n",
      "de_000 4.82901554404145\n",
      "df_000 7.115716753022452\n",
      "dg_000 7.119170984455958\n",
      "dh_000 7.119170984455958\n",
      "di_000 7.112262521588947\n",
      "dj_000 7.115716753022452\n",
      "dk_000 7.115716753022452\n",
      "dl_000 7.119170984455958\n",
      "dm_000 7.122625215889465\n",
      "dn_000 1.1433506044905009\n",
      "do_000 4.825561312607944\n",
      "dp_000 4.832469775474957\n",
      "dq_000 4.832469775474957\n",
      "dr_000 4.82901554404145\n",
      "ds_000 4.832469775474957\n",
      "dt_000 4.832469775474957\n",
      "du_000 4.82901554404145\n",
      "dv_000 4.82901554404145\n",
      "dx_000 4.825561312607944\n",
      "dy_000 4.82901554404145\n",
      "dz_000 4.825561312607944\n",
      "ea_000 4.825561312607944\n",
      "eb_000 7.115716753022452\n",
      "ec_00 17.385146804835923\n",
      "ed_000 16.14853195164076\n",
      "ee_000 1.0535405872193437\n",
      "ee_001 1.0535405872193437\n",
      "ee_002 1.0535405872193437\n",
      "ee_003 1.0535405872193437\n",
      "ee_004 1.0535405872193437\n",
      "ee_005 1.0535405872193437\n",
      "ee_006 1.0535405872193437\n",
      "ee_007 1.0535405872193437\n",
      "ee_008 1.0535405872193437\n",
      "ee_009 1.0535405872193437\n",
      "ef_000 4.82901554404145\n",
      "eg_000 4.825561312607944\n"
     ]
    }
   ],
   "source": [
    "drop_column_name=[]\n",
    "for column_names, missing_percentage in  zip((df.isnull().sum()/df.shape[0]).index, (df.isnull().sum()/df.shape[0]).values):\n",
    "    print(column_names,missing_percentage*100)\n",
    "    if missing_percentage >0.3:\n",
    "        drop_column_name.append(column_names)"
   ]
  },
  {
   "cell_type": "code",
   "execution_count": 39,
   "id": "4a4197a6",
   "metadata": {},
   "outputs": [
    {
     "data": {
      "text/plain": [
       "['ab_000',\n",
       " 'bk_000',\n",
       " 'bl_000',\n",
       " 'bm_000',\n",
       " 'bn_000',\n",
       " 'bo_000',\n",
       " 'bp_000',\n",
       " 'bq_000',\n",
       " 'br_000',\n",
       " 'cr_000']"
      ]
     },
     "execution_count": 39,
     "metadata": {},
     "output_type": "execute_result"
    }
   ],
   "source": [
    "drop_column_name"
   ]
  },
  {
   "cell_type": "code",
   "execution_count": 50,
   "id": "f816c2b9",
   "metadata": {},
   "outputs": [
    {
     "data": {
      "text/plain": [
       "ab_000    0.772297\n",
       "bk_000    0.379206\n",
       "bl_000    0.447703\n",
       "bm_000    0.652746\n",
       "bn_000    0.725250\n",
       "bo_000    0.762383\n",
       "bp_000    0.785009\n",
       "bq_000    0.802073\n",
       "br_000    0.810743\n",
       "cr_000    0.772297\n",
       "dtype: float64"
      ]
     },
     "execution_count": 50,
     "metadata": {},
     "output_type": "execute_result"
    }
   ],
   "source": [
    "null_report[null_report>0.3]"
   ]
  },
  {
   "cell_type": "code",
   "execution_count": 51,
   "id": "3c3578ad",
   "metadata": {},
   "outputs": [
    {
     "data": {
      "text/plain": [
       "Index(['ab_000', 'bk_000', 'bl_000', 'bm_000', 'bn_000', 'bo_000', 'bp_000',\n",
       "       'bq_000', 'br_000', 'cr_000'],\n",
       "      dtype='object')"
      ]
     },
     "execution_count": 51,
     "metadata": {},
     "output_type": "execute_result"
    }
   ],
   "source": [
    "null_report[null_report>0.3].index"
   ]
  },
  {
   "cell_type": "code",
   "execution_count": null,
   "id": "a4fe01ed",
   "metadata": {},
   "outputs": [],
   "source": [
    "import pandas, numpy, seaborn, matplotlib, sklearn, catboost, xgboost, dill, flask,gunicorn\n",
    "\n",
    "print(\"pandas:\", pandas.__version__)\n",
    "print(\"numpy:\", numpy.__version__)\n",
    "print(\"seaborn:\", seaborn.__version__)\n",
    "print(\"matplotlib:\", matplotlib.__version__)\n",
    "print(\"scikit-learn:\", sklearn.__version__)\n",
    "print(\"catboost:\", catboost.__version__)\n",
    "print(\"xgboost:\", xgboost.__version__)\n",
    "print(\"dill:\", dill.__version__)\n",
    "print(\"Flask:\", flask.__version__)\n",
    "print(\"gunicorn:\", gunicorn.__version__)"
   ]
  },
  {
   "cell_type": "code",
   "execution_count": 10,
   "id": "31dd6022",
   "metadata": {},
   "outputs": [
    {
     "name": "stdout",
     "output_type": "stream",
     "text": [
      "Requirement already satisfied: pymongo in e:\\abbc\\aps_fault_detection\\ssvvenv\\lib\\site-packages (4.2.0)\n",
      "Requirement already satisfied: pandas in e:\\abbc\\aps_fault_detection\\ssvvenv\\lib\\site-packages (2.3.0)\n",
      "Requirement already satisfied: numpy>=1.22.4 in e:\\abbc\\aps_fault_detection\\ssvvenv\\lib\\site-packages (from pandas) (2.0.2)\n",
      "Requirement already satisfied: python-dateutil>=2.8.2 in e:\\abbc\\aps_fault_detection\\ssvvenv\\lib\\site-packages (from pandas) (2.9.0.post0)\n",
      "Requirement already satisfied: pytz>=2020.1 in e:\\abbc\\aps_fault_detection\\ssvvenv\\lib\\site-packages (from pandas) (2025.2)\n",
      "Requirement already satisfied: tzdata>=2022.7 in e:\\abbc\\aps_fault_detection\\ssvvenv\\lib\\site-packages (from pandas) (2025.2)\n",
      "Requirement already satisfied: six>=1.5 in e:\\abbc\\aps_fault_detection\\ssvvenv\\lib\\site-packages (from python-dateutil>=2.8.2->pandas) (1.17.0)\n",
      "Requirement already satisfied: PyYAML in e:\\abbc\\aps_fault_detection\\ssvvenv\\lib\\site-packages (6.0)\n",
      "Requirement already satisfied: dill in e:\\abbc\\aps_fault_detection\\ssvvenv\\lib\\site-packages (0.3.5.1)\n",
      "Requirement already satisfied: dnspython in e:\\abbc\\aps_fault_detection\\ssvvenv\\lib\\site-packages (2.2.1)\n",
      "Requirement already satisfied: fastapi in e:\\abbc\\aps_fault_detection\\ssvvenv\\lib\\site-packages (0.78.0)\n",
      "Requirement already satisfied: starlette==0.19.1 in e:\\abbc\\aps_fault_detection\\ssvvenv\\lib\\site-packages (from fastapi) (0.19.1)\n",
      "Requirement already satisfied: pydantic!=1.7,!=1.7.1,!=1.7.2,!=1.7.3,!=1.8,!=1.8.1,<2.0.0,>=1.6.2 in e:\\abbc\\aps_fault_detection\\ssvvenv\\lib\\site-packages (from fastapi) (1.10.22)\n",
      "Requirement already satisfied: anyio<5,>=3.4.0 in e:\\abbc\\aps_fault_detection\\ssvvenv\\lib\\site-packages (from starlette==0.19.1->fastapi) (3.7.1)\n",
      "Requirement already satisfied: typing-extensions>=3.10.0 in e:\\abbc\\aps_fault_detection\\ssvvenv\\lib\\site-packages (from starlette==0.19.1->fastapi) (4.14.0)\n",
      "Requirement already satisfied: idna>=2.8 in e:\\abbc\\aps_fault_detection\\ssvvenv\\lib\\site-packages (from anyio<5,>=3.4.0->starlette==0.19.1->fastapi) (3.10)\n",
      "Requirement already satisfied: sniffio>=1.1 in e:\\abbc\\aps_fault_detection\\ssvvenv\\lib\\site-packages (from anyio<5,>=3.4.0->starlette==0.19.1->fastapi) (1.3.1)\n",
      "Requirement already satisfied: exceptiongroup in e:\\abbc\\aps_fault_detection\\ssvvenv\\lib\\site-packages (from anyio<5,>=3.4.0->starlette==0.19.1->fastapi) (1.3.0)\n",
      "Requirement already satisfied: httptools in e:\\abbc\\aps_fault_detection\\ssvvenv\\lib\\site-packages (0.5.0)\n",
      "Requirement already satisfied: imblearn in e:\\abbc\\aps_fault_detection\\ssvvenv\\lib\\site-packages (0.0)\n",
      "Requirement already satisfied: imbalanced-learn in e:\\abbc\\aps_fault_detection\\ssvvenv\\lib\\site-packages (from imblearn) (0.12.4)\n",
      "Requirement already satisfied: numpy>=1.17.3 in e:\\abbc\\aps_fault_detection\\ssvvenv\\lib\\site-packages (from imbalanced-learn->imblearn) (2.0.2)\n",
      "Requirement already satisfied: scipy>=1.5.0 in e:\\abbc\\aps_fault_detection\\ssvvenv\\lib\\site-packages (from imbalanced-learn->imblearn) (1.13.1)\n",
      "Requirement already satisfied: scikit-learn>=1.0.2 in e:\\abbc\\aps_fault_detection\\ssvvenv\\lib\\site-packages (from imbalanced-learn->imblearn) (1.6.1)\n",
      "Requirement already satisfied: joblib>=1.1.1 in e:\\abbc\\aps_fault_detection\\ssvvenv\\lib\\site-packages (from imbalanced-learn->imblearn) (1.5.1)\n",
      "Requirement already satisfied: threadpoolctl>=2.0.0 in e:\\abbc\\aps_fault_detection\\ssvvenv\\lib\\site-packages (from imbalanced-learn->imblearn) (3.6.0)\n",
      "Requirement already satisfied: mypy-boto3-s3 in e:\\abbc\\aps_fault_detection\\ssvvenv\\lib\\site-packages (1.24.76)\n",
      "Requirement already satisfied: typing-extensions>=4.1.0 in e:\\abbc\\aps_fault_detection\\ssvvenv\\lib\\site-packages (from mypy-boto3-s3) (4.14.0)\n",
      "Requirement already satisfied: pip-chill in e:\\abbc\\aps_fault_detection\\ssvvenv\\lib\\site-packages (1.0.1)\n",
      "Requirement already satisfied: python-dotenv in e:\\abbc\\aps_fault_detection\\ssvvenv\\lib\\site-packages (0.21.0)\n"
     ]
    }
   ],
   "source": [
    "!pip install pymongo\n",
    "!pip install pandas\n",
    "!pip install PyYAML\n",
    "!pip install dill\n",
    "!pip install dnspython\n",
    "!pip install fastapi\n",
    "!pip install httptools\n",
    "!pip install imblearn\n",
    "!pip install mypy-boto3-s3\n",
    "!pip install pip-chill\n",
    "!pip install python-dotenv\n"
   ]
  },
  {
   "cell_type": "code",
   "execution_count": 12,
   "id": "d327b061",
   "metadata": {},
   "outputs": [
    {
     "ename": "ModuleNotFoundError",
     "evalue": "No module named 'PyYAML'",
     "output_type": "error",
     "traceback": [
      "\u001b[1;31m---------------------------------------------------------------------------\u001b[0m",
      "\u001b[1;31mModuleNotFoundError\u001b[0m                       Traceback (most recent call last)",
      "Cell \u001b[1;32mIn[12], line 1\u001b[0m\n\u001b[1;32m----> 1\u001b[0m \u001b[38;5;28;01mimport\u001b[39;00m\u001b[38;5;250m \u001b[39m\u001b[38;5;21;01mpymongo\u001b[39;00m\u001b[38;5;241m,\u001b[39m\u001b[38;5;21;01mpandas\u001b[39;00m\u001b[38;5;241m,\u001b[39m\u001b[38;5;250m \u001b[39m\u001b[38;5;21;01mPyYAML\u001b[39;00m\u001b[38;5;241m,\u001b[39m\u001b[38;5;21;01mdill\u001b[39;00m\u001b[38;5;241m,\u001b[39m\u001b[38;5;21;01mdnspython\u001b[39;00m\u001b[38;5;241m,\u001b[39m\u001b[38;5;21;01mfastapi\u001b[39;00m\u001b[38;5;241m,\u001b[39m\u001b[38;5;21;01mhttptools\u001b[39;00m\u001b[38;5;241m,\u001b[39m\u001b[38;5;21;01mimblearn\u001b[39;00m\u001b[38;5;241m,\u001b[39m\u001b[38;5;21;01mmypyboto3s3\u001b[39;00m\u001b[38;5;241m,\u001b[39m\u001b[38;5;21;01mpipchill\u001b[39;00m\u001b[38;5;241m,\u001b[39m\u001b[38;5;21;01mpymongo\u001b[39;00m\u001b[38;5;241m,\u001b[39m\u001b[38;5;21;01mpythondotenv\u001b[39;00m\u001b[38;5;241m,\u001b[39m\u001b[38;5;21;01mtypess3transfer\u001b[39;00m\u001b[38;5;241m,\u001b[39m\u001b[38;5;21;01muvicorn\u001b[39;00m\u001b[38;5;241m,\u001b[39m\u001b[38;5;21;01mwatchfiles\u001b[39;00m\u001b[38;5;241m,\u001b[39m\u001b[38;5;21;01mwebsockets\u001b[39;00m\u001b[38;5;241m,\u001b[39m\u001b[38;5;21;01mwincertstore\u001b[39;00m\u001b[38;5;241m,\u001b[39m\u001b[38;5;21;01mxgboost\u001b[39;00m\u001b[38;5;241m,\u001b[39m\u001b[38;5;21;01mnumpy\u001b[39;00m\u001b[38;5;241m,\u001b[39m\u001b[38;5;21;01mscikitlearn\u001b[39;00m\n",
      "\u001b[1;31mModuleNotFoundError\u001b[0m: No module named 'PyYAML'"
     ]
    }
   ],
   "source": [
    "import pymongo,pandas, PyYAML,dill,dnspython,fastapi,httptools,imblearn,mypyboto3s3,pipchill,pymongo,pythondotenv,typess3transfer,uvicorn,watchfiles,websockets,wincertstore,xgboost,numpy,scikitlearn\n",
    "\n",
    "\n",
    "\n"
   ]
  },
  {
   "cell_type": "code",
   "execution_count": null,
   "id": "31b19f23",
   "metadata": {},
   "outputs": [],
   "source": []
  }
 ],
 "metadata": {
  "kernelspec": {
   "display_name": "Python 3",
   "language": "python",
   "name": "python3"
  },
  "language_info": {
   "codemirror_mode": {
    "name": "ipython",
    "version": 3
   },
   "file_extension": ".py",
   "mimetype": "text/x-python",
   "name": "python",
   "nbconvert_exporter": "python",
   "pygments_lexer": "ipython3",
   "version": "3.9.16"
  }
 },
 "nbformat": 4,
 "nbformat_minor": 5
}
